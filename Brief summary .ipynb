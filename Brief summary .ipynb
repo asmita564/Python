{
 "cells": [
  {
   "cell_type": "raw",
   "id": "cc97fb71-b163-4aac-b115-177818712600",
   "metadata": {},
   "source": [
    "Here is a brief summary of the steps taken to complete the task of analyzing company revenue and its compititors."
   ]
  },
  {
   "cell_type": "markdown",
   "id": "aab9796f-2de9-4abd-8363-cc88f071f438",
   "metadata": {},
   "source": [
    "Libraries - Pandas, Matplotlib, matplotlib.pyplot, numpy, seaborn.\n",
    "\n",
    "Data Loading - Loaded the CSV data into a pandas DataFrame.\n",
    "\n",
    "Data Cleaning - Preprocessed the 'Revenue' column to remove non-numeric characters and converted it to float for analysis.\n",
    "\n",
    "Visualization -\n",
    "Created various visualizations including- \n",
    "Pie chart to visualize the distribution of revenue among different companies.\n",
    "Bar chart to show the revenue of each company individually.\n",
    "Line plot to show the revenue trends of different companies over time.\n",
    "Competitor Analysis - Identified potential competitors by comparing revenue levels, market share, growth rates, and industry presence.\n",
    "\n",
    "Conclusion - \n",
    "Concluded the analysis by summarizing the findings and recommendations for improving revenue and market competitiveness."
   ]
  }
 ],
 "metadata": {
  "kernelspec": {
   "display_name": "Python 3 (ipykernel)",
   "language": "python",
   "name": "python3"
  },
  "language_info": {
   "codemirror_mode": {
    "name": "ipython",
    "version": 3
   },
   "file_extension": ".py",
   "mimetype": "text/x-python",
   "name": "python",
   "nbconvert_exporter": "python",
   "pygments_lexer": "ipython3",
   "version": "3.8.18"
  }
 },
 "nbformat": 4,
 "nbformat_minor": 5
}
